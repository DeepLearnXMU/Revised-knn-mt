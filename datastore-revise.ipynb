{
 "cells": [
  {
   "cell_type": "code",
   "execution_count": 1,
   "id": "ee3d7782-66b4-4906-aa5b-673dd72db81c",
   "metadata": {},
   "outputs": [],
   "source": [
    "import numpy as np\n",
    "import torch\n",
    "from dataclasses import dataclass\n",
    "from revisedkey.model import Reviser\n",
    "from revisedkey.utils import *\n",
    "from tqdm import tqdm"
   ]
  },
  {
   "cell_type": "code",
   "execution_count": 2,
   "id": "656de157-0da0-43c7-9854-2eaeb69942f1",
   "metadata": {},
   "outputs": [],
   "source": [
    "@dataclass\n",
    "class Config:\n",
    "    dimension = 1024\n",
    "    dropout = 0.2\n",
    "    ffn_size = 8192\n",
    "    dataset = 'koran'\n",
    "    source_model = '../knnmt-fairseq/models/wmt19.de-en/wmt19.de-en.ffn8192.pt'\n",
    "    target_model = '../knnmt-fairseq/models/koran_finetune/checkpoint_best.pt'\n",
    "    source_dstore_mmap = '../knnmt-fairseq/datastores/koran_base/'\n",
    "    target_dstore_mmap = '../knnmt-fairseq/datastores/koran_finetune/'"
   ]
  },
  {
   "cell_type": "code",
   "execution_count": 3,
   "id": "08f40318-b3fd-479e-82ca-5ef9e2ff1ae3",
   "metadata": {},
   "outputs": [],
   "source": [
    "args = Config()"
   ]
  },
  {
   "cell_type": "code",
   "execution_count": 4,
   "id": "c2acfe43-1aca-4127-bfb2-6e64ce01760e",
   "metadata": {},
   "outputs": [],
   "source": [
    "reviser = Reviser(args)\n",
    "ckp = torch.load('revisedkey-datastores/koran_revised/reviser_checkpoint.pt')\n",
    "reviser.load_state_dict(ckp)\n",
    "reviser = reviser.cuda()"
   ]
  },
  {
   "cell_type": "code",
   "execution_count": 5,
   "id": "8365a386-27c5-4395-828a-ef5746b6df2c",
   "metadata": {},
   "outputs": [
    {
     "data": {
      "text/plain": [
       "Reviser(\n",
       "  (key_map): Sequential(\n",
       "    (0): Linear(in_features=4096, out_features=8192, bias=True)\n",
       "    (1): ReLU()\n",
       "    (2): Dropout(p=0.2, inplace=False)\n",
       "    (3): Linear(in_features=8192, out_features=1024, bias=True)\n",
       "  )\n",
       "  (source_embed): Embedding(42024, 1024)\n",
       "  (target_embed): Embedding(42024, 1024)\n",
       ")"
      ]
     },
     "execution_count": 5,
     "metadata": {},
     "output_type": "execute_result"
    }
   ],
   "source": [
    "reviser"
   ]
  },
  {
   "cell_type": "code",
   "execution_count": 6,
   "id": "f549cd8f-724f-4783-8bd8-6c3da010d9b4",
   "metadata": {},
   "outputs": [],
   "source": [
    "dstore_size = DATASTORE_SIZE[args.dataset]\n",
    "revised_dstore_mmap = 'revisedkey-datastores/koran_revised'\n",
    "dstore_keys = np.memmap(revised_dstore_mmap + '/keys.npy', dtype=np.float16, mode='w+', shape=(dstore_size, args.dimension))\n",
    "dstore_vals = np.memmap(revised_dstore_mmap + '/vals.npy', dtype=np.int64, mode='w+', shape=(dstore_size, 1))"
   ]
  },
  {
   "cell_type": "code",
   "execution_count": 7,
   "id": "3e25e1a5-5b9f-41bb-9aa6-b20054794546",
   "metadata": {},
   "outputs": [],
   "source": [
    "source_keys = np.memmap(args.source_dstore_mmap + '/keys.npy', dtype=np.float16, mode='r', shape=(dstore_size, args.dimension))\n",
    "target_keys = np.memmap(args.target_dstore_mmap + '/keys.npy', dtype=np.float16, mode='r', shape=(dstore_size, args.dimension))\n",
    "token = np.memmap(args.source_dstore_mmap + '/vals.npy', dtype=np.int64, mode='r', shape=(dstore_size, 1))"
   ]
  },
  {
   "cell_type": "code",
   "execution_count": 8,
   "id": "dc7b0024-5778-4249-911c-577af965930f",
   "metadata": {},
   "outputs": [
    {
     "name": "stderr",
     "output_type": "stream",
     "text": [
      "  0%|          | 0/53 [00:00<?, ?it/s]/mnt/nas/users/zhiyi.czw/anaconda3/envs/knnmt/lib/python3.7/site-packages/ipykernel_launcher.py:3: UserWarning: The given NumPy array is not writeable, and PyTorch does not support non-writeable tensors. This means you can write to the underlying (supposedly non-writeable) NumPy array using the tensor. You may want to copy the array to protect its data or make it writeable before converting it to a tensor. This type of warning will be suppressed for the rest of this program. (Triggered internally at  /opt/conda/conda-bld/pytorch_1607370141920/work/torch/csrc/utils/tensor_numpy.cpp:141.)\n",
      "  This is separate from the ipykernel package so we can avoid doing imports until\n",
      "100%|██████████| 53/53 [00:06<00:00,  7.71it/s]\n"
     ]
    }
   ],
   "source": [
    "with torch.no_grad():\n",
    "    for idx in tqdm(range(0, len(token), 10000)):\n",
    "        part_source_keys = torch.from_numpy(source_keys[idx: idx+10000])\n",
    "        part_target_keys = torch.from_numpy(target_keys[idx: idx+10000])\n",
    "        part_token = torch.from_numpy(token[idx: idx+10000])\n",
    "\n",
    "        revised_keys, _ = reviser.key_forward(\n",
    "            source_hidden=part_source_keys.cuda().float(), \n",
    "            target_hidden=part_target_keys.cuda().float(),\n",
    "            token=part_token.cuda().squeeze(1))\n",
    "        \n",
    "        dstore_keys[idx: idx+10000] = revised_keys.type(torch.float16).cpu().numpy()\n",
    "        dstore_vals[idx: idx+10000] = part_token"
   ]
  },
  {
   "cell_type": "code",
   "execution_count": null,
   "id": "669c8706-e7ea-4367-a7c9-00c85ca31e35",
   "metadata": {},
   "outputs": [],
   "source": []
  }
 ],
 "metadata": {
  "kernelspec": {
   "display_name": "knnmt",
   "language": "python",
   "name": "knnmt"
  },
  "language_info": {
   "codemirror_mode": {
    "name": "ipython",
    "version": 3
   },
   "file_extension": ".py",
   "mimetype": "text/x-python",
   "name": "python",
   "nbconvert_exporter": "python",
   "pygments_lexer": "ipython3",
   "version": "3.7.2"
  }
 },
 "nbformat": 4,
 "nbformat_minor": 5
}
